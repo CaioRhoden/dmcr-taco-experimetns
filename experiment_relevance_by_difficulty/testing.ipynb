{
 "cells": [
  {
   "cell_type": "code",
   "execution_count": 1,
   "metadata": {},
   "outputs": [
    {
     "name": "stdout",
     "output_type": "stream",
     "text": [
      "Number of GPUs available: 1\n",
      "GPU 0: NVIDIA A100 80GB PCIe\n"
     ]
    }
   ],
   "source": [
    "\n",
    "import os\n",
    "os.environ[\"CUDA_VISIBLE_DEVICES\"] = \"5\"\n",
    "os.environ[\"TOKENIZERS_PARALLELISM\"] = \"false\"\n",
    "import torch\n",
    "import numpy as np\n",
    "seed = 42\n",
    "# NumPy\n",
    "np.random.seed(seed)\n",
    "\n",
    "# PyTorch\n",
    "torch.manual_seed(seed)\n",
    "if torch.cuda.is_available():\n",
    "    torch.cuda.manual_seed(seed)\n",
    "    torch.cuda.manual_seed_all(seed)\n",
    "    torch.backends.cudnn.deterministic = True\n",
    "    torch.backends.cudnn.benchmark = False\n",
    "\n",
    "\n",
    "if torch.cuda.is_available():\n",
    "    print(f\"Number of GPUs available: {torch.cuda.device_count()}\")\n",
    "    for i in range(torch.cuda.device_count()):\n",
    "        print(f\"GPU {i}: {torch.cuda.get_device_name(i)}\")\n",
    "\n",
    "device = torch.device(\"cuda:0\" if torch.cuda.is_available() else \"cpu\")"
   ]
  },
  {
   "cell_type": "code",
   "execution_count": 4,
   "metadata": {},
   "outputs": [],
   "source": [
    "import polars as pl\n",
    "import json\n",
    "from datasets import load_from_disk\n",
    "import yaml\n",
    "import wandb\n",
    "\n",
    "## Repo funtions\n",
    "from taco_utils.evaluators.compute_1_pass_by_test import compute_1_pass_by_test\n",
    "from taco_utils import run_inference, parse_generations"
   ]
  },
  {
   "cell_type": "code",
   "execution_count": 3,
   "metadata": {},
   "outputs": [],
   "source": [
    "PATH  = \"../data/TACO/processed\"\n",
    "train = pl.read_ipc(f\"{PATH}/train.feather\")\n",
    "train_solutions = pl.read_ipc(f\"{PATH}/train_solutions.feather\")\n",
    "train_tests = pl.read_ipc(f\"{PATH}/train_evaluation_tests.feather\")\n",
    "train_dict = load_from_disk(\"../data/TACO/train.hf\")"
   ]
  },
  {
   "cell_type": "code",
   "execution_count": 5,
   "metadata": {},
   "outputs": [
    {
     "data": {
      "text/plain": [
       "{'inference_config': {'instruction': 'You are a coding generation tool that will solve a problem using Python',\n",
       "  'saving_path': 'generations',\n",
       "  'model_path': '../models/llm/Llama-3.2-3B-Instruct',\n",
       "  'num_returns': 20,\n",
       "  'num_generations': 20,\n",
       "  'log_datetime': False},\n",
       " 'model_config': {'temperature': 0.7, 'top_p': 0.95, 'max_length': 2048},\n",
       " 'parse_config': {'saving_path': 'parsed_generations'},\n",
       " 'results_config': {'saving_path': 'results', 'log_only_total': True}}"
      ]
     },
     "execution_count": 5,
     "metadata": {},
     "output_type": "execute_result"
    }
   ],
   "source": [
    "config = yaml.safe_load(open(\"config.yaml\"))\n",
    "config"
   ]
  },
  {
   "cell_type": "code",
   "execution_count": 7,
   "metadata": {},
   "outputs": [],
   "source": [
    "selected_problem = train.filter(pl.col(\"id\") == 2545)\n"
   ]
  },
  {
   "cell_type": "code",
   "execution_count": 8,
   "metadata": {},
   "outputs": [],
   "source": [
    "prompt_input = selected_problem.select(\"input\").to_struct().to_pandas().iloc[0][\"input\"]\n",
    "prompt = f\"Please write a Python program \\nQUESTION: \\n{prompt_input} \\n ANSWER: \\n.\""
   ]
  },
  {
   "cell_type": "code",
   "execution_count": null,
   "metadata": {},
   "outputs": [
    {
     "name": "stderr",
     "output_type": "stream",
     "text": [
      "Loading checkpoint shards: 100%|██████████| 2/2 [00:02<00:00,  1.32s/it]\n"
     ]
    },
    {
     "name": "stdout",
     "output_type": "stream",
     "text": [
      "Lopp 0, 2025-03-17 15:55:00.053932\n",
      "Lopp 1, 2025-03-17 15:55:12.417611\n"
     ]
    }
   ],
   "source": [
    "wandb.init(\n",
    "    project = \"dmcr-taco-experiment-difficulty-relevance\", \n",
    "    dir = \"logs\",\n",
    "    id = f\"3545\", \n",
    "    name = f\"2545\",\n",
    "    config = config,\n",
    "\n",
    ")\n",
    "run_inference(\n",
    "    prompt = prompt_input,\n",
    "    instruction = config[\"inference_config\"][\"instruction\"],\n",
    "    saving_path = f\"{}/no_context.json\",\n",
    "    \n",
    ")\n",
    "\n",
    "\n",
    "\n",
    "\n",
    "\n",
    "parse_generation(json.load(open(\"no_context.json\")), 2545 , \"no_context_parsed.json\")\n",
    "compute_1_pass_by_test(\"no_context_parsed.json\", [train_dict[2545]], file=\"no_context_1_pass.json\")\n",
    "results = json.load(open(\"no_context_1_pass.json\"))"
   ]
  },
  {
   "cell_type": "code",
   "execution_count": 19,
   "metadata": {},
   "outputs": [],
   "source": [
    "parse_generation(json.load(open(\"no_context.json\")), 2545 , \"no_context_parsed.json\")"
   ]
  },
  {
   "cell_type": "code",
   "execution_count": 20,
   "metadata": {},
   "outputs": [],
   "source": [
    "compute_1_pass_by_test(\"no_context_parsed.json\", [train_dict[2545]], file=\"no_context_1_pass.json\")"
   ]
  },
  {
   "cell_type": "code",
   "execution_count": 21,
   "metadata": {},
   "outputs": [
    {
     "data": {
      "text/plain": [
       "{'2545': [0, 0, 0, 0, 0, 0, 0, 0, 0, 0]}"
      ]
     },
     "execution_count": 21,
     "metadata": {},
     "output_type": "execute_result"
    }
   ],
   "source": [
    "json.load(open(\"no_context_1_pass.json\"))"
   ]
  }
 ],
 "metadata": {
  "kernelspec": {
   "display_name": "taco",
   "language": "python",
   "name": "python3"
  },
  "language_info": {
   "codemirror_mode": {
    "name": "ipython",
    "version": 3
   },
   "file_extension": ".py",
   "mimetype": "text/x-python",
   "name": "python",
   "nbconvert_exporter": "python",
   "pygments_lexer": "ipython3",
   "version": "3.11.11"
  }
 },
 "nbformat": 4,
 "nbformat_minor": 2
}
